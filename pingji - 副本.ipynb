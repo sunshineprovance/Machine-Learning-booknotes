{
 "cells": [
  {
   "cell_type": "code",
   "execution_count": 2,
   "metadata": {},
   "outputs": [],
   "source": [
    "import random\n",
    "import cv2 as cv"
   ]
  },
  {
   "cell_type": "code",
   "execution_count": 3,
   "metadata": {},
   "outputs": [],
   "source": [
    "#计算交点函数\n",
    "def Calculate_Intersection(img,st,line_1,length):\n",
    "    '''\n",
    "    随机生成起始点\n",
    "        参数：\n",
    "    img : str , 图片路径\n",
    "    st,ed : int , 起始点范围\n",
    "    length : int , 线长\n",
    "    返回值：\n",
    "    sum : int , 交点数\n",
    "    sp : int , 起始点\n",
    "    line: int , 计算线的水平位置\n",
    "    '''\n",
    "    image = img #确定图片所在路径\n",
    "    src = cv.imread(image,cv.IMREAD_GRAYSCALE)#读取图片\n",
    "    s = src[line_1]#获得此线的数值\n",
    "    \n",
    "    \n",
    "    Normal_Threshold = 6\n",
    "    Tangent_Threshold = 30\n",
    "    Bias_Threshold = 3\n",
    "    bias = 0\n",
    "    active_bias = False\n",
    "    k = 0\n",
    "    sum_ = 0\n",
    "    j = 0\n",
    "    st_ = st\n",
    "    length_ = length\n",
    "    \n",
    "    a_s = s[st-5:st+5]    #判断起始点两侧的黑点个数\n",
    "    indices_s = [i for i in range(len(a_s)) if a_s[i]<100]\n",
    "    b_s = a_s[indices_s]\n",
    "    a_e = s[st+length-5:st+length+5]\n",
    "    indices_e = [i for i in range(len(a_e)) if a_e[i]<100]\n",
    "    b_e = a_e[indices_e]\n",
    "    if len(b_s)>5 and s[st]<100:\n",
    "        sum_+=0.5\n",
    "        while s[st_]<100:\n",
    "            st_+=1\n",
    "    if len(b_e)>5 and s[st+length]<100:\n",
    "        sum_+=0.5\n",
    "        while s[st+length_]<100:\n",
    "            length_-=1\n",
    "    \n",
    "    res_1 = s[st_:st+length_]\n",
    "    \n",
    "    for i in res_1:\n",
    "        if i < 100:\n",
    "            active_bias = True\n",
    "            k += 1\n",
    "        if active_bias and not i < 100:\n",
    "            bias += 1\n",
    "        if bias > Bias_Threshold:\n",
    "            active_bias = False\n",
    "            if k > Tangent_Threshold:\n",
    "                sum_ += 1.5\n",
    "                k = 0\n",
    "            elif k > Normal_Threshold and k < Tangent_Threshold:\n",
    "                sum_+=1\n",
    "                k = 0\n",
    "            else:\n",
    "                k = 0\n",
    "            bias = 0\n",
    "    return sum_,res_1"
   ]
  },
  {
   "cell_type": "code",
   "execution_count": 4,
   "metadata": {},
   "outputs": [],
   "source": [
    "st = 140\n",
    "length = 929\n",
    "width = 140\n",
    "# line_1 = random.randint(30,100)      #随机生成线\n",
    "line_1 = 140"
   ]
  },
  {
   "cell_type": "code",
   "execution_count": null,
   "metadata": {},
   "outputs": [],
   "source": []
  },
  {
   "cell_type": "markdown",
   "metadata": {},
   "source": [
    "# 预测，要修改图片名称，运行五次"
   ]
  },
  {
   "cell_type": "code",
   "execution_count": 5,
   "metadata": {},
   "outputs": [],
   "source": [
    "#多条线"
   ]
  },
  {
   "cell_type": "code",
   "execution_count": 6,
   "metadata": {},
   "outputs": [],
   "source": [
    "sal_list = []#存放五张图片的交点数"
   ]
  },
  {
   "cell_type": "code",
   "execution_count": 11,
   "metadata": {},
   "outputs": [],
   "source": [
    "#运行五次，每次运行都要修改图片名称\n",
    "\n",
    "#生成评级计算线\n",
    "sum_all_line = 0   #初始化交点总数\n",
    "line_list = []\n",
    "sum_list = []\n",
    "\n",
    "width_s = 0\n",
    "for i in range(5):\n",
    "    sum_,res = Calculate_Intersection(\"./254-500x-1.png\",st,line_1+width_s,length)\n",
    "    line_list.append(line_1+width_s)\n",
    "    sum_list.append(sum_)\n",
    "    sum_all_line+=sum_\n",
    "    width_s+=width\n",
    "\n",
    "sal_list.append(sum_all_line)"
   ]
  },
  {
   "cell_type": "code",
   "execution_count": 12,
   "metadata": {},
   "outputs": [
    {
     "data": {
      "text/plain": [
       "[49.5, 55.5, 49.0, 55.5, 55.0]"
      ]
     },
     "execution_count": 12,
     "metadata": {},
     "output_type": "execute_result"
    }
   ],
   "source": [
    "sal_list"
   ]
  },
  {
   "cell_type": "code",
   "execution_count": 13,
   "metadata": {},
   "outputs": [],
   "source": [
    "#显示计算线的位置\n",
    "import sys\n",
    "from PIL import Image,ImageDraw\n",
    "\n",
    "im = Image.open(\"D:/研究生/金相识别/20210622比对/254-500x-5.JPG\")\n",
    "draw = ImageDraw.Draw(im) #实例化一个对象\n",
    "for i in range(len(line_list)):\n",
    "    draw.line((st,line_list[i]) + (st+length,line_list[i]), fill=(240,65,85), width=3) #线的起点和终点，线宽\n",
    "\n",
    "\n",
    "# draw.line((0, im.size[1], im.size[0], 0), fill=128)\n",
    "# draw.line((0,im.size[1]/2)+(im.size[0]/2,im.size[1]), fill=128, width=5)\n",
    "im.show()\n"
   ]
  },
  {
   "cell_type": "code",
   "execution_count": null,
   "metadata": {},
   "outputs": [],
   "source": []
  },
  {
   "cell_type": "code",
   "execution_count": null,
   "metadata": {},
   "outputs": [],
   "source": []
  },
  {
   "cell_type": "code",
   "execution_count": 12,
   "metadata": {},
   "outputs": [],
   "source": [
    "#评估"
   ]
  },
  {
   "cell_type": "code",
   "execution_count": 14,
   "metadata": {},
   "outputs": [],
   "source": [
    "import numpy as np\n",
    "import math\n",
    "#输入视场大小\n",
    "shichang = 20\n",
    "M = 10000/shichang\n",
    "#计算L\n",
    "L = len(line_list)*100\n",
    "#平均截点数\n",
    "p_avg = np.average(sal_list)\n",
    "#平均截距\n",
    "i_avg = L/(M*p_avg)\n",
    "#标准偏差\n",
    "# s = 0\n",
    "# for i in sal_list:\n",
    "#     s += (i-p_avg)**2\n",
    "# S = np.sqrt(s/(len(line_list)-1))\n",
    "\n",
    "#平均晶粒度级别数\n",
    "G = 6.643856*math.log10((M*p_avg)/L)-3.288"
   ]
  },
  {
   "cell_type": "code",
   "execution_count": 15,
   "metadata": {},
   "outputs": [
    {
     "data": {
      "text/plain": [
       "8.162391307385"
      ]
     },
     "execution_count": 15,
     "metadata": {},
     "output_type": "execute_result"
    }
   ],
   "source": [
    "G"
   ]
  }
 ],
 "metadata": {
  "kernelspec": {
   "display_name": "Python 3",
   "language": "python",
   "name": "python3"
  },
  "language_info": {
   "codemirror_mode": {
    "name": "ipython",
    "version": 3
   },
   "file_extension": ".py",
   "mimetype": "text/x-python",
   "name": "python",
   "nbconvert_exporter": "python",
   "pygments_lexer": "ipython3",
   "version": "3.8.3"
  }
 },
 "nbformat": 4,
 "nbformat_minor": 4
}
