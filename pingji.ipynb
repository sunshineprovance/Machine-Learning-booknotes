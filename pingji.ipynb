{
 "cells": [
  {
   "cell_type": "code",
   "execution_count": 2,
   "metadata": {},
   "outputs": [
    {
     "name": "stdout",
     "output_type": "stream",
     "text": [
      "Collecting opencv-python\n",
      "  Downloading opencv_python-4.5.2.54-cp38-cp38-win_amd64.whl (34.7 MB)\n",
      "Requirement already satisfied: numpy>=1.17.3 in c:\\users\\13155\\anaconda3\\lib\\site-packages (from opencv-python) (1.18.5)\n",
      "Installing collected packages: opencv-python\n",
      "Successfully installed opencv-python-4.5.2.54\n"
     ]
    }
   ],
   "source": [
    "!pip install opencv-python"
   ]
  },
  {
   "cell_type": "code",
   "execution_count": 1,
   "metadata": {},
   "outputs": [],
   "source": [
    "import cv2 as cv"
   ]
  },
  {
   "cell_type": "code",
   "execution_count": 2,
   "metadata": {},
   "outputs": [],
   "source": [
    "import random\n",
    "#起始点随机生成函数\n",
    "def Start(s,st,ed,length):\n",
    "    \n",
    "    '''\n",
    "    随机生成起始点\n",
    "    参数：\n",
    "    s : ndarray , 随机生成的线\n",
    "    st,ed : int , 范围\n",
    "    length : int , 线长\n",
    "    返回值：\n",
    "    res : ndarray ,计算线\n",
    "    start_point : int , 起始点\n",
    "    '''\n",
    "    \n",
    "    start_point = random.randint(st,ed)                         #随机生成起始点\n",
    "    while True:                                                #判断起始点是否为白，若没有重新随机\n",
    "        a_s = s[start_point-5:start_point+5]                    #判断起始点周围的白点个数，且起始点必须为白点\n",
    "        indices_s = [i for i in range(len(a_s)) if a_s[i]<100] \n",
    "        b_s = a_s[indices_s]\n",
    "        \n",
    "        a_e = s[start_point+length-5:start_point+length+5]\n",
    "        indices_e = [i for i in range(len(a_e)) if a_e[i]<100] \n",
    "        b_e = a_e[indices_e]\n",
    "        \n",
    "        if len(b_s)<1 and s[start_point]>100 and len(b_e)<1 and s[start_point+length]>100:\n",
    "            break\n",
    "        else:\n",
    "            start_point = random.randint(st,ed)\n",
    "    res = s[start_point:start_point+length]\n",
    "    return res,start_point"
   ]
  },
  {
   "cell_type": "code",
   "execution_count": null,
   "metadata": {},
   "outputs": [],
   "source": [
    "import random\n",
    "#起始点随机生成函数\n",
    "def Start(s,st,ed,length):\n",
    "    \n",
    "    '''\n",
    "    随机生成起始点\n",
    "    参数：\n",
    "    s : ndarray , 随机生成的线\n",
    "    st,ed : int , 范围\n",
    "    length : int , 线长\n",
    "    返回值：\n",
    "    res : ndarray ,计算线\n",
    "    start_point : int , 起始点\n",
    "    '''\n",
    "    \n",
    "    start_point = random.randint(st,ed)                         #随机生成起始点\n",
    "    while True:                                                #判断起始点是否为白，若没有重新随机\n",
    "        a_s = s[start_point-5:start_point+5]                    #判断起始点周围的白点个数，且起始点必须为白点\n",
    "        indices_s = [i for i in range(len(a_s)) if a_s[i]<100] \n",
    "        b_s = a_s[indices_s]\n",
    "        \n",
    "        a_e = s[start_point+length-5:start_point+length+5]\n",
    "        indices_e = [i for i in range(len(a_e)) if a_e[i]<100] \n",
    "        b_e = a_e[indices_e]\n",
    "        \n",
    "        if len(b_s)<1 and s[start_point]>100 and len(b_e)<1 and s[start_point+length]>100:\n",
    "            break\n",
    "        else:\n",
    "            start_point = random.randint(st,ed)\n",
    "    res = s[start_point:start_point+length]\n",
    "    return res,start_point"
   ]
  },
  {
   "cell_type": "code",
   "execution_count": 3,
   "metadata": {},
   "outputs": [],
   "source": [
    "#计算交点函数\n",
    "def Calculate_Intersection(img,st,ed,length):\n",
    "    \n",
    "    '''\n",
    "    随机生成起始点\n",
    "    参数：\n",
    "    img : str , 图片路径\n",
    "    st,ed : int , 起始点范围\n",
    "    length : int , 线长\n",
    "    返回值：\n",
    "    sum : int , 交点数\n",
    "    sp : int , 起始点\n",
    "    line: int , 计算线的水平位置\n",
    "    '''\n",
    "    \n",
    "    image = img  #确定图片所在路径\n",
    "    src = cv.imread(image,cv.IMREAD_GRAYSCALE)       #读取图片\n",
    "    #生成用于计算的线\n",
    "    line_1 = random.randint(50,src.shape[0]-100)      #随机生成线\n",
    "    s = src[line_1]                      #获得此线的数值\n",
    "    res_1,sp = Start(s,st,ed,length)      #获得线\n",
    "    #计算交点数\n",
    "    k = 0\n",
    "    sum=0\n",
    "    j = 0\n",
    "    for i in res_1:\n",
    "        if i<100:\n",
    "            k+=1\n",
    "            continue\n",
    "        else:\n",
    "            j+=1\n",
    "            if k>6 and j>8:\n",
    "                sum+=1\n",
    "                j = 1\n",
    "                k=0\n",
    "            elif k>1:\n",
    "                k=0\n",
    "                \n",
    "    return sum,sp,line_1,res_1"
   ]
  },
  {
   "cell_type": "code",
   "execution_count": 15,
   "metadata": {},
   "outputs": [],
   "source": [
    "sum,sp,line_1,res = Calculate_Intersection(\"./pj.png\",100,250,900)"
   ]
  },
  {
   "cell_type": "code",
   "execution_count": 5,
   "metadata": {},
   "outputs": [
    {
     "data": {
      "text/plain": [
       "10"
      ]
     },
     "execution_count": 5,
     "metadata": {},
     "output_type": "execute_result"
    }
   ],
   "source": [
    "sum"
   ]
  },
  {
   "cell_type": "code",
   "execution_count": 7,
   "metadata": {},
   "outputs": [],
   "source": [
    "#显示计算线的位置\n",
    "import sys\n",
    "from PIL import Image,ImageDraw\n",
    "\n",
    "im = Image.open(\"./pj.png\")\n",
    "draw = ImageDraw.Draw(im) #实例化一个对象\n",
    "\n",
    "draw.line((sp,line_1) + (sp+900,line_1), fill=(240,65,85), width=1) #线的起点和终点，线宽\n",
    "# draw.line((0, im.size[1], im.size[0], 0), fill=128)\n",
    "# draw.line((0,im.size[1]/2)+(im.size[0]/2,im.size[1]), fill=128, width=5)\n",
    "im.show()\n"
   ]
  },
  {
   "cell_type": "code",
   "execution_count": null,
   "metadata": {},
   "outputs": [],
   "source": []
  },
  {
   "cell_type": "code",
   "execution_count": null,
   "metadata": {},
   "outputs": [],
   "source": []
  },
  {
   "cell_type": "code",
   "execution_count": null,
   "metadata": {},
   "outputs": [],
   "source": []
  },
  {
   "cell_type": "code",
   "execution_count": null,
   "metadata": {},
   "outputs": [],
   "source": []
  },
  {
   "cell_type": "code",
   "execution_count": 8,
   "metadata": {},
   "outputs": [],
   "source": [
    "#生成评级计算线\n",
    "sum_all_line = 0   #初始化总数\n",
    "sp_list = []\n",
    "line_list = []\n",
    "sum_list = []\n",
    "while sum_all_line<=50:\n",
    "    sum_,sp,line_1,res = Calculate_Intersection(\"./pj.png\",100,300,900)\n",
    "    if sp not in sp_list and line_1 not in line_list :\n",
    "        k=0\n",
    "        if len(line_list)!=0:\n",
    "            for val in line_list:\n",
    "                if abs(line_1-val)<= 90:\n",
    "                    k = -1\n",
    "        if k==0:\n",
    "            sp_list.append(sp)\n",
    "            line_list.append(line_1)\n",
    "            sum_list.append(sum_)\n",
    "            sum_all_line+=sum_\n",
    "\n"
   ]
  },
  {
   "cell_type": "code",
   "execution_count": 9,
   "metadata": {},
   "outputs": [
    {
     "data": {
      "text/plain": [
       "[226, 201, 154, 225, 289, 104]"
      ]
     },
     "execution_count": 9,
     "metadata": {},
     "output_type": "execute_result"
    }
   ],
   "source": [
    "sp_list"
   ]
  },
  {
   "cell_type": "code",
   "execution_count": 10,
   "metadata": {},
   "outputs": [
    {
     "data": {
      "text/plain": [
       "[829, 341, 644, 112, 499, 209]"
      ]
     },
     "execution_count": 10,
     "metadata": {},
     "output_type": "execute_result"
    }
   ],
   "source": [
    "line_list"
   ]
  },
  {
   "cell_type": "code",
   "execution_count": 11,
   "metadata": {},
   "outputs": [
    {
     "data": {
      "text/plain": [
       "[12, 8, 10, 9, 8, 9]"
      ]
     },
     "execution_count": 11,
     "metadata": {},
     "output_type": "execute_result"
    }
   ],
   "source": [
    "sum_list"
   ]
  },
  {
   "cell_type": "code",
   "execution_count": 12,
   "metadata": {},
   "outputs": [
    {
     "data": {
      "text/plain": [
       "56"
      ]
     },
     "execution_count": 12,
     "metadata": {},
     "output_type": "execute_result"
    }
   ],
   "source": [
    "sum_all_line"
   ]
  },
  {
   "cell_type": "code",
   "execution_count": 73,
   "metadata": {},
   "outputs": [
    {
     "data": {
      "text/plain": [
       "(228, 639)"
      ]
     },
     "execution_count": 73,
     "metadata": {},
     "output_type": "execute_result"
    }
   ],
   "source": [
    "sp,line_1"
   ]
  },
  {
   "cell_type": "code",
   "execution_count": 17,
   "metadata": {},
   "outputs": [],
   "source": [
    "#显示计算线的位置\n",
    "import sys\n",
    "from PIL import Image,ImageDraw\n",
    "\n",
    "im = Image.open(\"./pj.png\")\n",
    "draw = ImageDraw.Draw(im) #实例化一个对象\n",
    "for i in range(len(sp_list)):\n",
    "    draw.line((sp_list[i],line_list[i]) + (sp_list[i]+900,line_list[i]), fill=(240,65,85), width=2) #线的起点和终点，线宽\n",
    "\n",
    "\n",
    "# draw.line((0, im.size[1], im.size[0], 0), fill=128)\n",
    "# draw.line((0,im.size[1]/2)+(im.size[0]/2,im.size[1]), fill=128, width=5)\n",
    "im.show()\n"
   ]
  },
  {
   "cell_type": "code",
   "execution_count": null,
   "metadata": {},
   "outputs": [],
   "source": []
  },
  {
   "cell_type": "code",
   "execution_count": null,
   "metadata": {},
   "outputs": [],
   "source": []
  },
  {
   "cell_type": "code",
   "execution_count": null,
   "metadata": {},
   "outputs": [],
   "source": []
  },
  {
   "cell_type": "code",
   "execution_count": null,
   "metadata": {},
   "outputs": [],
   "source": []
  },
  {
   "cell_type": "code",
   "execution_count": null,
   "metadata": {},
   "outputs": [],
   "source": []
  },
  {
   "cell_type": "markdown",
   "metadata": {},
   "source": [
    "# 改"
   ]
  },
  {
   "cell_type": "code",
   "execution_count": 2,
   "metadata": {},
   "outputs": [],
   "source": [
    "import random"
   ]
  },
  {
   "cell_type": "code",
   "execution_count": 47,
   "metadata": {},
   "outputs": [],
   "source": [
    "#计算交点函数\n",
    "def Calculate_Intersection(img,st,line_1,length):\n",
    "    \n",
    "    '''\n",
    "    随机生成起始点\n",
    "    参数：\n",
    "    img : str , 图片路径\n",
    "    st,ed : int , 起始点范围\n",
    "    length : int , 线长\n",
    "    返回值：\n",
    "    sum : int , 交点数\n",
    "    sp : int , 起始点\n",
    "    line: int , 计算线的水平位置\n",
    "    '''\n",
    "    \n",
    "    image = img  #确定图片所在路径\n",
    "    src = cv.imread(image,cv.IMREAD_GRAYSCALE)       #读取图片\n",
    "    #生成用于计算的线\n",
    "#     line_1 = random.randint(30,100)      #随机生成线\n",
    "    s = src[line_1]                      #获得此线的数值\n",
    "    \n",
    "        \n",
    "    #计算交点数\n",
    "    k = 0\n",
    "    sum_=0\n",
    "    j = 0\n",
    "    st_ = st\n",
    "    length_ = length\n",
    "    \n",
    "    a_s = s[st-5:st+5]                    #判断起始点两侧的黑点个数\n",
    "    indices_s = [i for i in range(len(a_s)) if a_s[i]<100] \n",
    "    b_s = a_s[indices_s]\n",
    "    a_e = s[st+length-5:st+length+5]\n",
    "    indices_e = [i for i in range(len(a_e)) if a_e[i]<100] \n",
    "    b_e = a_e[indices_e]\n",
    "    if len(b_s)>5 and s[st]<100:\n",
    "        sum_+=0.5\n",
    "        while s[st_]<100:\n",
    "            st_+=1\n",
    "    if len(b_e)>5 and s[st+length]<100:\n",
    "        sum_+=0.5\n",
    "        while s[st+length_]<100:\n",
    "            length_-=1\n",
    "        \n",
    "    \n",
    "    res_1 = s[st_:st+length_]   \n",
    "    for i in res_1:\n",
    "        if i<100:\n",
    "            k+=1\n",
    "            continue\n",
    "        else:\n",
    "            j+=1\n",
    "            if k>6 and j>8:\n",
    "                sum_+=1\n",
    "                j = 1\n",
    "                k=0\n",
    "            elif k>1:\n",
    "                k=0\n",
    "                \n",
    "    return sum_,res_1"
   ]
  },
  {
   "cell_type": "code",
   "execution_count": 54,
   "metadata": {},
   "outputs": [],
   "source": [
    "st = 120\n",
    "length = 933\n",
    "width = 140\n",
    "line_1 = random.randint(30,100)      #随机生成线"
   ]
  },
  {
   "cell_type": "code",
   "execution_count": null,
   "metadata": {},
   "outputs": [],
   "source": []
  },
  {
   "cell_type": "code",
   "execution_count": 55,
   "metadata": {},
   "outputs": [],
   "source": [
    "#一条线"
   ]
  },
  {
   "cell_type": "code",
   "execution_count": 56,
   "metadata": {},
   "outputs": [],
   "source": [
    "sum_,res = Calculate_Intersection(\"./pj.png\",st,line_1,length)"
   ]
  },
  {
   "cell_type": "code",
   "execution_count": 57,
   "metadata": {},
   "outputs": [],
   "source": [
    "#显示计算线的位置\n",
    "import sys\n",
    "from PIL import Image,ImageDraw\n",
    "\n",
    "im = Image.open(\"./pj.png\")\n",
    "draw = ImageDraw.Draw(im) #实例化一个对象\n",
    "\n",
    "draw.line((st,line_1) + (st+length,line_1), fill=(240,65,85), width=1) #线的起点和终点，线宽\n",
    "# draw.line((0, im.size[1], im.size[0], 0), fill=128)\n",
    "# draw.line((0,im.size[1]/2)+(im.size[0]/2,im.size[1]), fill=128, width=5)\n",
    "im.show()\n"
   ]
  },
  {
   "cell_type": "code",
   "execution_count": 58,
   "metadata": {},
   "outputs": [
    {
     "data": {
      "text/plain": [
       "9.0"
      ]
     },
     "execution_count": 58,
     "metadata": {},
     "output_type": "execute_result"
    }
   ],
   "source": [
    "sum_"
   ]
  },
  {
   "cell_type": "code",
   "execution_count": null,
   "metadata": {},
   "outputs": [],
   "source": []
  },
  {
   "cell_type": "code",
   "execution_count": null,
   "metadata": {},
   "outputs": [],
   "source": [
    "#多条线"
   ]
  },
  {
   "cell_type": "code",
   "execution_count": 29,
   "metadata": {},
   "outputs": [],
   "source": [
    "#生成评级计算线\n",
    "sum_all_line = 0   #初始化交点总数\n",
    "line_list = []\n",
    "sum_list = []\n",
    "width_s = 0\n",
    "while sum_all_line<=50:\n",
    "    sum_,res = Calculate_Intersection(\"./pj.png\",st,line_1+width_s,length)\n",
    "    line_list.append(line_1+width_s)\n",
    "    sum_list.append(sum_)\n",
    "    sum_all_line+=sum_\n",
    "    width_s+=width\n",
    "\n"
   ]
  },
  {
   "cell_type": "code",
   "execution_count": 30,
   "metadata": {},
   "outputs": [
    {
     "data": {
      "text/plain": [
       "[96, 236, 376, 516, 656, 796]"
      ]
     },
     "execution_count": 30,
     "metadata": {},
     "output_type": "execute_result"
    }
   ],
   "source": [
    "line_list"
   ]
  },
  {
   "cell_type": "code",
   "execution_count": 33,
   "metadata": {},
   "outputs": [
    {
     "data": {
      "text/plain": [
       "[11, 9, 9, 9, 11, 9]"
      ]
     },
     "execution_count": 33,
     "metadata": {},
     "output_type": "execute_result"
    }
   ],
   "source": [
    "sum_list"
   ]
  },
  {
   "cell_type": "code",
   "execution_count": 32,
   "metadata": {},
   "outputs": [
    {
     "data": {
      "text/plain": [
       "58"
      ]
     },
     "execution_count": 32,
     "metadata": {},
     "output_type": "execute_result"
    }
   ],
   "source": [
    "sum_all_line"
   ]
  },
  {
   "cell_type": "code",
   "execution_count": 34,
   "metadata": {},
   "outputs": [],
   "source": [
    "#显示计算线的位置\n",
    "import sys\n",
    "from PIL import Image,ImageDraw\n",
    "\n",
    "im = Image.open(\"./pj.png\")\n",
    "draw = ImageDraw.Draw(im) #实例化一个对象\n",
    "for i in range(len(line_list)):\n",
    "    draw.line((st,line_list[i]) + (st+length,line_list[i]), fill=(240,65,85), width=3) #线的起点和终点，线宽\n",
    "\n",
    "\n",
    "# draw.line((0, im.size[1], im.size[0], 0), fill=128)\n",
    "# draw.line((0,im.size[1]/2)+(im.size[0]/2,im.size[1]), fill=128, width=5)\n",
    "im.show()\n"
   ]
  },
  {
   "cell_type": "code",
   "execution_count": null,
   "metadata": {},
   "outputs": [],
   "source": []
  },
  {
   "cell_type": "code",
   "execution_count": null,
   "metadata": {},
   "outputs": [],
   "source": []
  },
  {
   "cell_type": "code",
   "execution_count": null,
   "metadata": {},
   "outputs": [],
   "source": []
  },
  {
   "cell_type": "code",
   "execution_count": null,
   "metadata": {},
   "outputs": [],
   "source": []
  },
  {
   "cell_type": "code",
   "execution_count": null,
   "metadata": {},
   "outputs": [],
   "source": [
    "#评估"
   ]
  },
  {
   "cell_type": "code",
   "execution_count": null,
   "metadata": {},
   "outputs": [],
   "source": [
    "#输入视场大小\n",
    "shichang = 1000\n",
    "M = 10000/shichang"
   ]
  },
  {
   "cell_type": "code",
   "execution_count": null,
   "metadata": {},
   "outputs": [],
   "source": []
  },
  {
   "cell_type": "code",
   "execution_count": null,
   "metadata": {},
   "outputs": [],
   "source": []
  },
  {
   "cell_type": "code",
   "execution_count": null,
   "metadata": {},
   "outputs": [],
   "source": []
  },
  {
   "cell_type": "code",
   "execution_count": null,
   "metadata": {},
   "outputs": [],
   "source": []
  },
  {
   "cell_type": "code",
   "execution_count": null,
   "metadata": {},
   "outputs": [],
   "source": []
  },
  {
   "cell_type": "code",
   "execution_count": null,
   "metadata": {},
   "outputs": [],
   "source": []
  },
  {
   "cell_type": "code",
   "execution_count": null,
   "metadata": {},
   "outputs": [],
   "source": []
  },
  {
   "cell_type": "code",
   "execution_count": null,
   "metadata": {},
   "outputs": [],
   "source": []
  },
  {
   "cell_type": "code",
   "execution_count": null,
   "metadata": {},
   "outputs": [],
   "source": []
  },
  {
   "cell_type": "code",
   "execution_count": null,
   "metadata": {},
   "outputs": [],
   "source": []
  },
  {
   "cell_type": "code",
   "execution_count": null,
   "metadata": {},
   "outputs": [],
   "source": []
  },
  {
   "cell_type": "code",
   "execution_count": null,
   "metadata": {},
   "outputs": [],
   "source": []
  },
  {
   "cell_type": "code",
   "execution_count": null,
   "metadata": {},
   "outputs": [],
   "source": []
  },
  {
   "cell_type": "code",
   "execution_count": null,
   "metadata": {},
   "outputs": [],
   "source": []
  },
  {
   "cell_type": "code",
   "execution_count": null,
   "metadata": {},
   "outputs": [],
   "source": []
  },
  {
   "cell_type": "code",
   "execution_count": null,
   "metadata": {},
   "outputs": [],
   "source": []
  },
  {
   "cell_type": "code",
   "execution_count": 36,
   "metadata": {},
   "outputs": [],
   "source": [
    "image = \"./pj.png\"  #确定图片所在路径\n",
    "src = cv.imread(image,cv.IMREAD_GRAYSCALE)       #读取图片\n",
    "#生成用于计算的线\n",
    "s = src[line_1]                      #获得此线的数值\n",
    "res_1 = s[st:st+length]"
   ]
  },
  {
   "cell_type": "code",
   "execution_count": 39,
   "metadata": {},
   "outputs": [],
   "source": [
    "a_s = s[st-5:st+5]"
   ]
  },
  {
   "cell_type": "code",
   "execution_count": 40,
   "metadata": {},
   "outputs": [
    {
     "data": {
      "text/plain": [
       "array([38, 39, 36, 36, 44, 45, 45, 45, 44, 47], dtype=uint8)"
      ]
     },
     "execution_count": 40,
     "metadata": {},
     "output_type": "execute_result"
    }
   ],
   "source": [
    "a_s"
   ]
  },
  {
   "cell_type": "code",
   "execution_count": null,
   "metadata": {},
   "outputs": [],
   "source": []
  },
  {
   "cell_type": "code",
   "execution_count": 42,
   "metadata": {},
   "outputs": [],
   "source": [
    "xx = [i for i in range(len(a_s)) if a_s[i]<100]"
   ]
  },
  {
   "cell_type": "code",
   "execution_count": 43,
   "metadata": {},
   "outputs": [
    {
     "data": {
      "text/plain": [
       "[0, 1, 2, 3, 4, 5, 6, 7, 8, 9]"
      ]
     },
     "execution_count": 43,
     "metadata": {},
     "output_type": "execute_result"
    }
   ],
   "source": [
    "xx"
   ]
  },
  {
   "cell_type": "code",
   "execution_count": null,
   "metadata": {},
   "outputs": [],
   "source": []
  },
  {
   "cell_type": "code",
   "execution_count": null,
   "metadata": {},
   "outputs": [],
   "source": []
  },
  {
   "cell_type": "code",
   "execution_count": null,
   "metadata": {},
   "outputs": [],
   "source": []
  },
  {
   "cell_type": "code",
   "execution_count": null,
   "metadata": {},
   "outputs": [],
   "source": []
  },
  {
   "cell_type": "code",
   "execution_count": null,
   "metadata": {},
   "outputs": [],
   "source": []
  },
  {
   "cell_type": "code",
   "execution_count": null,
   "metadata": {},
   "outputs": [],
   "source": []
  },
  {
   "cell_type": "code",
   "execution_count": null,
   "metadata": {},
   "outputs": [],
   "source": [
    "#计算交点函数\n",
    "def Calculate_Intersection(img,st,ed,length):\n",
    "    \n",
    "    '''\n",
    "    随机生成起始点\n",
    "    参数：\n",
    "    img : str , 图片路径\n",
    "    st,ed : int , 起始点范围\n",
    "    length : int , 线长\n",
    "    返回值：\n",
    "    sum : int , 交点数\n",
    "    sp : int , 起始点\n",
    "    line: int , 计算线的水平位置\n",
    "    '''\n",
    "    \n",
    "    image = img  #确定图片所在路径\n",
    "    src = cv.imread(image,cv.IMREAD_GRAYSCALE)       #读取图片\n",
    "    #生成用于计算的线\n",
    "    line_1 = random.randint(50,src.shape[0]-100)      #随机生成线\n",
    "    s = src[line_1]                      #获得此线的数值\n",
    "    res_1,sp = Start(s,st,ed,length)      #获得线\n",
    "    #计算交点数\n",
    "    k = 0\n",
    "    sum=0\n",
    "    for i in res_1:\n",
    "        if i<100:\n",
    "            k+=1\n",
    "            continue\n",
    "        else:\n",
    "            if k>8:\n",
    "                sum+=1\n",
    "            k=0\n",
    "    return sum,sp,line_1,res_1"
   ]
  },
  {
   "cell_type": "code",
   "execution_count": null,
   "metadata": {},
   "outputs": [],
   "source": []
  },
  {
   "cell_type": "code",
   "execution_count": null,
   "metadata": {},
   "outputs": [],
   "source": []
  },
  {
   "cell_type": "code",
   "execution_count": null,
   "metadata": {},
   "outputs": [],
   "source": []
  },
  {
   "cell_type": "code",
   "execution_count": null,
   "metadata": {},
   "outputs": [],
   "source": []
  },
  {
   "cell_type": "code",
   "execution_count": null,
   "metadata": {},
   "outputs": [],
   "source": []
  }
 ],
 "metadata": {
  "kernelspec": {
   "display_name": "Python 3",
   "language": "python",
   "name": "python3"
  },
  "language_info": {
   "codemirror_mode": {
    "name": "ipython",
    "version": 3
   },
   "file_extension": ".py",
   "mimetype": "text/x-python",
   "name": "python",
   "nbconvert_exporter": "python",
   "pygments_lexer": "ipython3",
   "version": "3.8.3"
  }
 },
 "nbformat": 4,
 "nbformat_minor": 4
}
